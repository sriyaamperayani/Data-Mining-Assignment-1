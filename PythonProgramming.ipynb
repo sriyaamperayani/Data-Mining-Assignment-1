{
  "nbformat": 4,
  "nbformat_minor": 0,
  "metadata": {
    "colab": {
      "provenance": [],
      "authorship_tag": "ABX9TyPu+jx4kEMWwsIUWilgJKZQ",
      "include_colab_link": true
    },
    "kernelspec": {
      "name": "python3",
      "display_name": "Python 3"
    },
    "language_info": {
      "name": "python"
    }
  },
  "cells": [
    {
      "cell_type": "markdown",
      "metadata": {
        "id": "view-in-github",
        "colab_type": "text"
      },
      "source": [
        "<a href=\"https://colab.research.google.com/github/sriyaamperayani/Data-Mining-Assignment-1/blob/main/PythonProgramming.ipynb\" target=\"_parent\"><img src=\"https://colab.research.google.com/assets/colab-badge.svg\" alt=\"Open In Colab\"/></a>"
      ]
    },
    {
      "cell_type": "code",
      "execution_count": 4,
      "metadata": {
        "id": "wXxY4dpNutUA"
      },
      "outputs": [],
      "source": [
        "import random\n",
        "import sys\n",
        "import os"
      ]
    },
    {
      "cell_type": "code",
      "source": [
        "print(\"Sriya's Python Tutorial\")"
      ],
      "metadata": {
        "colab": {
          "base_uri": "https://localhost:8080/"
        },
        "id": "W78AyK64CbuH",
        "outputId": "50e44eaf-1b9d-4564-ddd5-1e3f5ba48c85"
      },
      "execution_count": 5,
      "outputs": [
        {
          "output_type": "stream",
          "name": "stdout",
          "text": [
            "Sriya's Python Tutorial\n"
          ]
        }
      ]
    },
    {
      "cell_type": "code",
      "source": [
        "#String\n",
        "name = \"Sriya\"\n",
        "print(name)"
      ],
      "metadata": {
        "colab": {
          "base_uri": "https://localhost:8080/"
        },
        "id": "5x079ABMCqMY",
        "outputId": "5cbe298c-bdb6-4686-981f-aeb14ac363ab"
      },
      "execution_count": 8,
      "outputs": [
        {
          "output_type": "stream",
          "name": "stdout",
          "text": [
            "Sriya\n"
          ]
        }
      ]
    },
    {
      "cell_type": "code",
      "source": [
        "#Variable\n",
        "name = 15\n",
        "print(name)"
      ],
      "metadata": {
        "colab": {
          "base_uri": "https://localhost:8080/"
        },
        "id": "eCA0ND5-CtCS",
        "outputId": "3feac0dc-2b6d-4e5f-a433-a8624fa0a381"
      },
      "execution_count": 10,
      "outputs": [
        {
          "output_type": "stream",
          "name": "stdout",
          "text": [
            "15\n"
          ]
        }
      ]
    },
    {
      "cell_type": "code",
      "source": [
        "#List\n",
        "name = [\"carrot\", \"cabbage\", \"cauliflower\"]\n",
        "print(name)\n",
        "name = [1, 2, 3, 4]\n",
        "print(name)\n",
        "name = [True, False, False]\n",
        "print(name)\n",
        "name = [\"cabbage\", 24, True, 54, \"female\"]\n",
        "print(name)"
      ],
      "metadata": {
        "colab": {
          "base_uri": "https://localhost:8080/"
        },
        "id": "M2OM0sU3Ey5h",
        "outputId": "d420c71f-7708-4372-8410-fb8ca9db3ef2"
      },
      "execution_count": 20,
      "outputs": [
        {
          "output_type": "stream",
          "name": "stdout",
          "text": [
            "['carrot', 'cabbage', 'cauliflower']\n",
            "[1, 2, 3, 4]\n",
            "[True, False, False]\n",
            "['cabbage', 24, True, 54, 'female']\n"
          ]
        }
      ]
    },
    {
      "cell_type": "code",
      "source": [
        "#Dictionary\n",
        "name = {\n",
        "  \"brand\": \"Ford\",\n",
        "  \"electric\": False,\n",
        "  \"year\": 1964,\n",
        "  \"colors\": [\"red\", \"white\", \"blue\"]\n",
        "}\n",
        "print(name)"
      ],
      "metadata": {
        "colab": {
          "base_uri": "https://localhost:8080/"
        },
        "id": "qZwmyN5_Flfd",
        "outputId": "f082b15e-3b1f-4222-f6e3-b203c58fef00"
      },
      "execution_count": 17,
      "outputs": [
        {
          "output_type": "stream",
          "name": "stdout",
          "text": [
            "{'brand': 'Ford', 'electric': False, 'year': 1964, 'colors': ['red', 'white', 'blue']}\n"
          ]
        }
      ]
    },
    {
      "cell_type": "code",
      "source": [
        "#Arithmetic Operations\n",
        "print(\"10 + 2 =\", 10+2)\n",
        "print(\"10 - 2 =\", 10-2)\n",
        "print(\"10 * 2 =\", 10*2)\n",
        "print(\"10 / 2 =\", 10/2)\n",
        "print(\"10 % 2 =\", 10%2)\n",
        "print(\"10 ** 2 =\", 10**2)\n",
        "print(\"10 // 2 =\", 10//2)"
      ],
      "metadata": {
        "colab": {
          "base_uri": "https://localhost:8080/"
        },
        "id": "rRJDEDOjDO_H",
        "outputId": "e58c7751-b895-49a6-a02c-26103a6a025d"
      },
      "execution_count": 21,
      "outputs": [
        {
          "output_type": "stream",
          "name": "stdout",
          "text": [
            "10 + 2 = 12\n",
            "10 - 2 = 8\n",
            "10 * 2 = 20\n",
            "10 / 2 = 5.0\n",
            "10 % 2 = 0\n",
            "10 ** 2 = 100\n",
            "10 // 2 = 5\n"
          ]
        }
      ]
    },
    {
      "cell_type": "code",
      "source": [
        "#Order of Operations\n",
        "print(\"5 + 12 - 3 * 2 =\", 5 + 12 - 3 * 2)\n",
        "print(\"(5 + 12 - 3) * 2 =\", (5 + 12 - 3) * 2)"
      ],
      "metadata": {
        "colab": {
          "base_uri": "https://localhost:8080/"
        },
        "id": "HBl0LhsjDzAu",
        "outputId": "dcf668e6-a2e2-42be-c317-a032cd046fd6"
      },
      "execution_count": 22,
      "outputs": [
        {
          "output_type": "stream",
          "name": "stdout",
          "text": [
            "5 + 12 - 3 * 2 = 11\n",
            "(5 + 12 - 3) * 2 = 28\n"
          ]
        }
      ]
    },
    {
      "cell_type": "markdown",
      "source": [
        "#Strings"
      ],
      "metadata": {
        "id": "7GGnjxH2JjAH"
      }
    },
    {
      "cell_type": "code",
      "source": [
        "quote = \"\\\"Always remember you're unique,\"\n",
        "multi_line_quote = ''' just\n",
        "like everyone else\" '''\n",
        "print(quote + multi_line_quote)"
      ],
      "metadata": {
        "colab": {
          "base_uri": "https://localhost:8080/"
        },
        "id": "ebpdj5akHWjV",
        "outputId": "5d7eb23f-e525-4283-bd45-0f27f925a970"
      },
      "execution_count": 29,
      "outputs": [
        {
          "output_type": "stream",
          "name": "stdout",
          "text": [
            "\"Always remember you're unique, just\n",
            "like everyone else\" \n"
          ]
        }
      ]
    },
    {
      "cell_type": "code",
      "source": [
        "print(\"%s %s %s\" % ('I like the quote', quote, multi_line_quote))"
      ],
      "metadata": {
        "colab": {
          "base_uri": "https://localhost:8080/"
        },
        "id": "QsasDlVEIXhb",
        "outputId": "e1249309-502a-436f-dd3b-831276e75d6c"
      },
      "execution_count": 30,
      "outputs": [
        {
          "output_type": "stream",
          "name": "stdout",
          "text": [
            "I like the quote \"Always remember you're unique,  just\n",
            "like everyone else\" \n"
          ]
        }
      ]
    },
    {
      "cell_type": "code",
      "source": [
        "print(\"I don't like \",end=\"\")\n",
        "print(\"newlines\")"
      ],
      "metadata": {
        "colab": {
          "base_uri": "https://localhost:8080/"
        },
        "id": "037aUJkzI41p",
        "outputId": "86ed4e1c-7115-463b-ef85-eaecf2b80ad7"
      },
      "execution_count": 31,
      "outputs": [
        {
          "output_type": "stream",
          "name": "stdout",
          "text": [
            "I don't like newlines\n"
          ]
        }
      ]
    },
    {
      "cell_type": "code",
      "source": [
        "print('I like it\\n' * 5)"
      ],
      "metadata": {
        "colab": {
          "base_uri": "https://localhost:8080/"
        },
        "id": "v7IGJtepJZdr",
        "outputId": "058467e6-2c50-4e70-b466-670a60efc5da"
      },
      "execution_count": 33,
      "outputs": [
        {
          "output_type": "stream",
          "name": "stdout",
          "text": [
            "I like it\n",
            "I like it\n",
            "I like it\n",
            "I like it\n",
            "I like it\n",
            "\n"
          ]
        }
      ]
    },
    {
      "cell_type": "markdown",
      "source": [
        "#Lists"
      ],
      "metadata": {
        "id": "l3PLLIUBJ1HW"
      }
    },
    {
      "cell_type": "code",
      "source": [
        "grocery_list = ['Carrots', 'Cabbages', 'Cauliflowers', 'Potatoes']\n",
        "print('First item:', grocery_list[0])"
      ],
      "metadata": {
        "colab": {
          "base_uri": "https://localhost:8080/"
        },
        "id": "HKsPK8XOJrg_",
        "outputId": "b1662c93-fe59-4a71-955e-60f936ce2b34"
      },
      "execution_count": 36,
      "outputs": [
        {
          "output_type": "stream",
          "name": "stdout",
          "text": [
            "First item: Carrots\n"
          ]
        }
      ]
    },
    {
      "cell_type": "code",
      "source": [
        "grocery_list[0] = \"Green Apples\"\n",
        "print('First item:', grocery_list[0])\n",
        "print(grocery_list)"
      ],
      "metadata": {
        "colab": {
          "base_uri": "https://localhost:8080/"
        },
        "id": "u9MypGo6KoQJ",
        "outputId": "72907dbe-bf6e-4f88-a6e6-20414062a827"
      },
      "execution_count": 39,
      "outputs": [
        {
          "output_type": "stream",
          "name": "stdout",
          "text": [
            "First item: Green Apples\n",
            "['Green Apples', 'Cabbages', 'Cauliflowers', 'Potatoes']\n"
          ]
        }
      ]
    },
    {
      "cell_type": "code",
      "source": [
        "print(grocery_list[1:3])"
      ],
      "metadata": {
        "colab": {
          "base_uri": "https://localhost:8080/"
        },
        "id": "zk2x7n_4K5gR",
        "outputId": "df030c67-4d17-4ae1-d5fc-d09a9943d119"
      },
      "execution_count": 38,
      "outputs": [
        {
          "output_type": "stream",
          "name": "stdout",
          "text": [
            "['Cabbages', 'Cauliflowers']\n"
          ]
        }
      ]
    },
    {
      "cell_type": "code",
      "source": [
        "other_events = ['Wash Utensils', 'Complete Assignment', 'Apply Internships']\n",
        "to_do_list = [other_events, grocery_list]\n",
        "print(to_do_list)"
      ],
      "metadata": {
        "colab": {
          "base_uri": "https://localhost:8080/"
        },
        "id": "MOi_ecHDLMJi",
        "outputId": "6cca8f11-915f-4f8d-dc05-331f65226096"
      },
      "execution_count": 40,
      "outputs": [
        {
          "output_type": "stream",
          "name": "stdout",
          "text": [
            "[['Wash Utensils', 'Complete Assignment', 'Apply Internships'], ['Green Apples', 'Cabbages', 'Cauliflowers', 'Potatoes']]\n"
          ]
        }
      ]
    },
    {
      "cell_type": "code",
      "source": [
        "print(to_do_list[0][1])"
      ],
      "metadata": {
        "colab": {
          "base_uri": "https://localhost:8080/"
        },
        "id": "W6ZrFbCiLQHN",
        "outputId": "ba3695cf-4975-4993-c34c-db6f1f0a29c2"
      },
      "execution_count": 42,
      "outputs": [
        {
          "output_type": "stream",
          "name": "stdout",
          "text": [
            "Complete Assignment\n"
          ]
        }
      ]
    },
    {
      "cell_type": "code",
      "source": [
        "grocery_list.append('Onions')\n",
        "print(to_do_list)"
      ],
      "metadata": {
        "colab": {
          "base_uri": "https://localhost:8080/"
        },
        "id": "p7HTD9r4LUEh",
        "outputId": "1a14d787-5b75-44af-d266-47d433b5dc92"
      },
      "execution_count": 43,
      "outputs": [
        {
          "output_type": "stream",
          "name": "stdout",
          "text": [
            "[['Wash Utensils', 'Complete Assignment', 'Apply Internships'], ['Green Apples', 'Cabbages', 'Cauliflowers', 'Potatoes', 'Onions']]\n"
          ]
        }
      ]
    },
    {
      "cell_type": "code",
      "source": [
        "grocery_list.insert(1, \"Beetroots\")\n",
        "print(grocery_list)"
      ],
      "metadata": {
        "colab": {
          "base_uri": "https://localhost:8080/"
        },
        "id": "VpIp6a05LWyP",
        "outputId": "698071b9-9e8b-4323-820d-435a45c015a8"
      },
      "execution_count": 56,
      "outputs": [
        {
          "output_type": "stream",
          "name": "stdout",
          "text": [
            "['Onions', 'Beetroots', 'Potatoes', 'Cauliflowers', 'Cabbages', 'Green Apples']\n"
          ]
        }
      ]
    },
    {
      "cell_type": "code",
      "source": [
        "grocery_list.remove(\"Beetroots\")\n",
        "print(grocery_list)"
      ],
      "metadata": {
        "colab": {
          "base_uri": "https://localhost:8080/"
        },
        "id": "d-rus0EmLZmf",
        "outputId": "ce56eb4b-759b-4501-c8f1-778d92bbbbf4"
      },
      "execution_count": 55,
      "outputs": [
        {
          "output_type": "stream",
          "name": "stdout",
          "text": [
            "['Onions', 'Potatoes', 'Cauliflowers', 'Cabbages', 'Green Apples']\n"
          ]
        }
      ]
    },
    {
      "cell_type": "code",
      "source": [
        "grocery_list.sort()\n",
        "print(grocery_list)"
      ],
      "metadata": {
        "colab": {
          "base_uri": "https://localhost:8080/"
        },
        "id": "rJ-NzfqVL0MZ",
        "outputId": "ee338b9f-e716-46f4-a5f2-b4bf1717ee33"
      },
      "execution_count": 58,
      "outputs": [
        {
          "output_type": "stream",
          "name": "stdout",
          "text": [
            "['Beetroots', 'Cabbages', 'Cauliflowers', 'Green Apples', 'Onions', 'Potatoes']\n"
          ]
        }
      ]
    },
    {
      "cell_type": "code",
      "source": [
        "grocery_list.reverse()\n",
        "print(grocery_list)"
      ],
      "metadata": {
        "colab": {
          "base_uri": "https://localhost:8080/"
        },
        "id": "6bwi9M3JL1Sv",
        "outputId": "733c27a6-f35f-4206-e0ba-0b6cb534e573"
      },
      "execution_count": 61,
      "outputs": [
        {
          "output_type": "stream",
          "name": "stdout",
          "text": [
            "['Potatoes', 'Onions', 'Green Apples', 'Cauliflowers', 'Cabbages', 'Beetroots']\n"
          ]
        }
      ]
    },
    {
      "cell_type": "code",
      "source": [
        "del grocery_list[4]\n",
        "print(to_do_list)"
      ],
      "metadata": {
        "colab": {
          "base_uri": "https://localhost:8080/"
        },
        "id": "2PqjUSw3MJsK",
        "outputId": "a26bd5ec-636e-41d2-c27d-ee98f56fc216"
      },
      "execution_count": 62,
      "outputs": [
        {
          "output_type": "stream",
          "name": "stdout",
          "text": [
            "[['Wash Utensils', 'Complete Assignment', 'Apply Internships'], ['Potatoes', 'Onions', 'Green Apples', 'Cauliflowers', 'Beetroots']]\n"
          ]
        }
      ]
    },
    {
      "cell_type": "code",
      "source": [
        "to_do_list2 = other_events + grocery_list\n",
        "print(to_do_list2)"
      ],
      "metadata": {
        "colab": {
          "base_uri": "https://localhost:8080/"
        },
        "id": "-VewJdrNMKuv",
        "outputId": "1f72e181-e933-4691-c251-35a22f89a621"
      },
      "execution_count": 68,
      "outputs": [
        {
          "output_type": "stream",
          "name": "stdout",
          "text": [
            "['Wash Utensils', 'Complete Assignment', 'Apply Internships', 'Potatoes', 'Onions', 'Green Apples', 'Cauliflowers', 'Beetroots']\n"
          ]
        }
      ]
    },
    {
      "cell_type": "code",
      "source": [
        "print(len(to_do_list2))"
      ],
      "metadata": {
        "colab": {
          "base_uri": "https://localhost:8080/"
        },
        "id": "2a22pWO-MRRa",
        "outputId": "fc71aa5e-5797-4040-bc7b-10fb5373e307"
      },
      "execution_count": 69,
      "outputs": [
        {
          "output_type": "stream",
          "name": "stdout",
          "text": [
            "8\n"
          ]
        }
      ]
    },
    {
      "cell_type": "code",
      "source": [
        "print(max(to_do_list2))"
      ],
      "metadata": {
        "colab": {
          "base_uri": "https://localhost:8080/"
        },
        "id": "LTgkR7_EMT0i",
        "outputId": "b11e88cc-19ad-4f1c-8178-5f05af3d401b"
      },
      "execution_count": 72,
      "outputs": [
        {
          "output_type": "stream",
          "name": "stdout",
          "text": [
            "Wash Utensils\n"
          ]
        }
      ]
    },
    {
      "cell_type": "code",
      "source": [
        "print(min(to_do_list2))"
      ],
      "metadata": {
        "colab": {
          "base_uri": "https://localhost:8080/"
        },
        "id": "R3EHlrQcMWlq",
        "outputId": "c2f7e81d-c408-4299-9064-86be26b89b3b"
      },
      "execution_count": 73,
      "outputs": [
        {
          "output_type": "stream",
          "name": "stdout",
          "text": [
            "Apply Internships\n"
          ]
        }
      ]
    },
    {
      "cell_type": "markdown",
      "source": [
        "#Tupples"
      ],
      "metadata": {
        "id": "8ewiv8JbRFkp"
      }
    },
    {
      "cell_type": "code",
      "source": [
        "pi_tuple = (3, 1, 4, 1, 5, 9)\n",
        "print(pi_tuple)"
      ],
      "metadata": {
        "colab": {
          "base_uri": "https://localhost:8080/"
        },
        "id": "n0sXjgwhRHSK",
        "outputId": "f1415bd5-557c-4919-bfa0-ce550eb7df22"
      },
      "execution_count": 75,
      "outputs": [
        {
          "output_type": "stream",
          "name": "stdout",
          "text": [
            "(3, 1, 4, 1, 5, 9)\n"
          ]
        }
      ]
    },
    {
      "cell_type": "code",
      "source": [
        "new_tuple = list(pi_tuple)\n",
        "print(new_tuple)"
      ],
      "metadata": {
        "colab": {
          "base_uri": "https://localhost:8080/"
        },
        "id": "Anf5yohrRPcx",
        "outputId": "f6bd0fcf-9261-4569-df80-0a8031da17bb"
      },
      "execution_count": 76,
      "outputs": [
        {
          "output_type": "stream",
          "name": "stdout",
          "text": [
            "[3, 1, 4, 1, 5, 9]\n"
          ]
        }
      ]
    },
    {
      "cell_type": "code",
      "source": [
        "new_list = tuple(new_tuple)\n",
        "print(new_list)"
      ],
      "metadata": {
        "colab": {
          "base_uri": "https://localhost:8080/"
        },
        "id": "6O3gOLssRTVV",
        "outputId": "819d57d5-a17a-4cab-821e-d72b47874267"
      },
      "execution_count": 77,
      "outputs": [
        {
          "output_type": "stream",
          "name": "stdout",
          "text": [
            "(3, 1, 4, 1, 5, 9)\n"
          ]
        }
      ]
    },
    {
      "cell_type": "code",
      "source": [
        "print(len(pi_tuple))"
      ],
      "metadata": {
        "colab": {
          "base_uri": "https://localhost:8080/"
        },
        "id": "rFgxos15RXVM",
        "outputId": "9a8cd775-838e-4244-b9f7-0d1c355b146b"
      },
      "execution_count": 78,
      "outputs": [
        {
          "output_type": "stream",
          "name": "stdout",
          "text": [
            "6\n"
          ]
        }
      ]
    },
    {
      "cell_type": "code",
      "source": [
        "print(max(pi_tuple))"
      ],
      "metadata": {
        "colab": {
          "base_uri": "https://localhost:8080/"
        },
        "id": "2ZtBiT4iSbwg",
        "outputId": "e50ac654-122d-4b9c-c250-592937b02988"
      },
      "execution_count": 80,
      "outputs": [
        {
          "output_type": "stream",
          "name": "stdout",
          "text": [
            "9\n"
          ]
        }
      ]
    },
    {
      "cell_type": "code",
      "source": [
        "print(min(pi_tuple))"
      ],
      "metadata": {
        "colab": {
          "base_uri": "https://localhost:8080/"
        },
        "id": "m7d5u8YoSgDK",
        "outputId": "c17feab1-d115-4cc6-f3e2-b199ae29662a"
      },
      "execution_count": 79,
      "outputs": [
        {
          "output_type": "stream",
          "name": "stdout",
          "text": [
            "1\n"
          ]
        }
      ]
    },
    {
      "cell_type": "markdown",
      "source": [
        "#Dictionaries or Maps"
      ],
      "metadata": {
        "id": "qRs1gX_FSqKF"
      }
    },
    {
      "cell_type": "code",
      "source": [
        "super_villains = {'Fiddler' : 'Isaac Bowin',\n",
        "                  'Captain Cold' : 'Leonard Snart',\n",
        "                  'Weather Wizard' : 'Mark Mardon',\n",
        "                  'Mirror Master' : 'Sam Scudder',\n",
        "                  'Pied Piper' : 'Thomas Peterson'}\n",
        "print(super_villains)"
      ],
      "metadata": {
        "colab": {
          "base_uri": "https://localhost:8080/"
        },
        "id": "IkXt7d1XSmRQ",
        "outputId": "cc163e6c-b1c4-4c93-cfe6-2ed15d251602"
      },
      "execution_count": 81,
      "outputs": [
        {
          "output_type": "stream",
          "name": "stdout",
          "text": [
            "{'Fiddler': 'Isaac Bowin', 'Captain Cold': 'Leonard Snart', 'Weather Wizard': 'Mark Mardon', 'Mirror Master': 'Sam Scudder', 'Pied Piper': 'Thomas Peterson'}\n"
          ]
        }
      ]
    },
    {
      "cell_type": "code",
      "source": [
        "print(super_villains['Captain Cold'])"
      ],
      "metadata": {
        "colab": {
          "base_uri": "https://localhost:8080/"
        },
        "id": "l4wjqT_FSzXV",
        "outputId": "335b4694-e642-4bba-f670-7838f8d34c61"
      },
      "execution_count": 82,
      "outputs": [
        {
          "output_type": "stream",
          "name": "stdout",
          "text": [
            "Leonard Snart\n"
          ]
        }
      ]
    },
    {
      "cell_type": "code",
      "source": [
        "del super_villains['Fiddler']\n",
        "print(super_villains)"
      ],
      "metadata": {
        "colab": {
          "base_uri": "https://localhost:8080/"
        },
        "id": "v2NzKtKXTHK2",
        "outputId": "420c77ab-3b13-4c59-ffc5-f07262e2924d"
      },
      "execution_count": 83,
      "outputs": [
        {
          "output_type": "stream",
          "name": "stdout",
          "text": [
            "{'Captain Cold': 'Leonard Snart', 'Weather Wizard': 'Mark Mardon', 'Mirror Master': 'Sam Scudder', 'Pied Piper': 'Thomas Peterson'}\n"
          ]
        }
      ]
    },
    {
      "cell_type": "code",
      "source": [
        "super_villains['Pied Piper'] = 'Hartley Rathaway'\n",
        "print(super_villains)"
      ],
      "metadata": {
        "colab": {
          "base_uri": "https://localhost:8080/"
        },
        "id": "y-ELMOwaTMt9",
        "outputId": "dcdb5ea2-6d31-4289-ef7f-daf2c2dfab64"
      },
      "execution_count": 84,
      "outputs": [
        {
          "output_type": "stream",
          "name": "stdout",
          "text": [
            "{'Captain Cold': 'Leonard Snart', 'Weather Wizard': 'Mark Mardon', 'Mirror Master': 'Sam Scudder', 'Pied Piper': 'Hartley Rathaway'}\n"
          ]
        }
      ]
    },
    {
      "cell_type": "code",
      "source": [
        "print(len(super_villains))"
      ],
      "metadata": {
        "colab": {
          "base_uri": "https://localhost:8080/"
        },
        "id": "rfpr3IdgTRKK",
        "outputId": "7252d637-62b0-469a-c064-27cabfe9b530"
      },
      "execution_count": 85,
      "outputs": [
        {
          "output_type": "stream",
          "name": "stdout",
          "text": [
            "4\n"
          ]
        }
      ]
    },
    {
      "cell_type": "code",
      "source": [
        "print(super_villains.get(\"Pied Piper\"))"
      ],
      "metadata": {
        "colab": {
          "base_uri": "https://localhost:8080/"
        },
        "id": "KPupnFlKTUK3",
        "outputId": "7c0c106e-7942-4ae0-fe95-cd5c717222b2"
      },
      "execution_count": 86,
      "outputs": [
        {
          "output_type": "stream",
          "name": "stdout",
          "text": [
            "Hartley Rathaway\n"
          ]
        }
      ]
    },
    {
      "cell_type": "code",
      "source": [
        "print(super_villains.keys())"
      ],
      "metadata": {
        "colab": {
          "base_uri": "https://localhost:8080/"
        },
        "id": "EnpVp_mXTYBn",
        "outputId": "40fc7c0d-ef57-4173-855c-58ea5a727ea8"
      },
      "execution_count": 87,
      "outputs": [
        {
          "output_type": "stream",
          "name": "stdout",
          "text": [
            "dict_keys(['Captain Cold', 'Weather Wizard', 'Mirror Master', 'Pied Piper'])\n"
          ]
        }
      ]
    },
    {
      "cell_type": "code",
      "source": [
        "print(super_villains.values())"
      ],
      "metadata": {
        "colab": {
          "base_uri": "https://localhost:8080/"
        },
        "id": "qRp8bUQtTa57",
        "outputId": "b3afde5e-6341-4046-b934-02fd8a96affe"
      },
      "execution_count": 88,
      "outputs": [
        {
          "output_type": "stream",
          "name": "stdout",
          "text": [
            "dict_values(['Leonard Snart', 'Mark Mardon', 'Sam Scudder', 'Hartley Rathaway'])\n"
          ]
        }
      ]
    },
    {
      "cell_type": "markdown",
      "source": [
        "#Conditionals"
      ],
      "metadata": {
        "id": "W5ZwVEG7TgQb"
      }
    },
    {
      "cell_type": "code",
      "source": [
        "age = 24\n",
        "if age > 21 :\n",
        "  print('You are old enough to drink')"
      ],
      "metadata": {
        "colab": {
          "base_uri": "https://localhost:8080/"
        },
        "id": "QR-aG37zTiES",
        "outputId": "c8940644-9ddc-48b5-a0f1-6be114e4c16e"
      },
      "execution_count": 89,
      "outputs": [
        {
          "output_type": "stream",
          "name": "stdout",
          "text": [
            "You are old enough to drink\n"
          ]
        }
      ]
    },
    {
      "cell_type": "code",
      "source": [
        "age = 20\n",
        "if age > 21 :\n",
        "  print('You are old enough to drink')\n",
        "else :\n",
        "  print('You are not old enough to drink')"
      ],
      "metadata": {
        "colab": {
          "base_uri": "https://localhost:8080/"
        },
        "id": "ZO8_Rc0LVLdF",
        "outputId": "38aa3847-af4c-4207-ef8e-6753c2dd42a4"
      },
      "execution_count": 90,
      "outputs": [
        {
          "output_type": "stream",
          "name": "stdout",
          "text": [
            "You are not old enough to drink\n"
          ]
        }
      ]
    },
    {
      "cell_type": "code",
      "source": [
        "age = 20\n",
        "if age > 21 :\n",
        "  print('You are old enough to drink')\n",
        "elif age > 18 :\n",
        "  print('You are old enough to drink breezer')\n",
        "else :\n",
        "  print('You are not old enough to drink')"
      ],
      "metadata": {
        "colab": {
          "base_uri": "https://localhost:8080/"
        },
        "id": "dmSybNq9VW5M",
        "outputId": "edd1a59a-323d-4906-ab77-d5003d56d423"
      },
      "execution_count": 91,
      "outputs": [
        {
          "output_type": "stream",
          "name": "stdout",
          "text": [
            "You are old enough to drink breezer\n"
          ]
        }
      ]
    },
    {
      "cell_type": "code",
      "source": [
        "age = 30\n",
        "if ((age >= 1) and (age <= 18)):\n",
        "    print(\"You get a birthday party\")\n",
        "elif (age == 21) or (age >= 65):\n",
        "    print(\"You get a birthday party\")\n",
        "elif not(age == 30):\n",
        "    print(\"You don't get a birthday party\")\n",
        "else:\n",
        "    print(\"You get a birthday party yeah\")"
      ],
      "metadata": {
        "colab": {
          "base_uri": "https://localhost:8080/"
        },
        "id": "UiKqWzqDWUYB",
        "outputId": "1d7bf589-4155-489a-a9f8-4ce05fc0c931"
      },
      "execution_count": 93,
      "outputs": [
        {
          "output_type": "stream",
          "name": "stdout",
          "text": [
            "You get a birthday party yeah\n"
          ]
        }
      ]
    },
    {
      "cell_type": "markdown",
      "source": [
        "#For Loops"
      ],
      "metadata": {
        "id": "0yf6f7BjWv2B"
      }
    },
    {
      "cell_type": "code",
      "source": [
        "for x in range(0, 10):\n",
        "  print(x , ' ', end=\"\")\n",
        "print('\\n')\n",
        "grocery_list = ['Juice', 'Tomatoes', 'Potatoes', 'Bananas']\n",
        "print(grocery_list)"
      ],
      "metadata": {
        "colab": {
          "base_uri": "https://localhost:8080/"
        },
        "id": "aXCSjqSaWj5Y",
        "outputId": "58bf896b-5005-4e9d-d7c6-1a1ccd7da807"
      },
      "execution_count": 98,
      "outputs": [
        {
          "output_type": "stream",
          "name": "stdout",
          "text": [
            "0  1  2  3  4  5  6  7  8  9  \n",
            "\n",
            "['Juice', 'Tomatoes', 'Potatoes', 'Bananas']\n"
          ]
        }
      ]
    },
    {
      "cell_type": "code",
      "source": [
        "for y in grocery_list:\n",
        "  print(y)"
      ],
      "metadata": {
        "colab": {
          "base_uri": "https://localhost:8080/"
        },
        "id": "kJLxMUcoYEh5",
        "outputId": "790c1d78-c449-46e4-f134-8e0e037f1739"
      },
      "execution_count": 99,
      "outputs": [
        {
          "output_type": "stream",
          "name": "stdout",
          "text": [
            "Juice\n",
            "Tomatoes\n",
            "Potatoes\n",
            "Bananas\n"
          ]
        }
      ]
    },
    {
      "cell_type": "code",
      "source": [
        "for x in [2,4,6,8,10]:\n",
        "  print(x)"
      ],
      "metadata": {
        "colab": {
          "base_uri": "https://localhost:8080/"
        },
        "id": "oIfpP8VPYLR3",
        "outputId": "469389f7-6116-4857-f2ce-6b175000c93e"
      },
      "execution_count": 100,
      "outputs": [
        {
          "output_type": "stream",
          "name": "stdout",
          "text": [
            "2\n",
            "4\n",
            "6\n",
            "8\n",
            "10\n"
          ]
        }
      ]
    },
    {
      "cell_type": "code",
      "source": [
        "num_list =[[1,2,3],[10,20,30],[100,200,300]];\n",
        "for x in range(0,3):\n",
        "  for y in range(0,3):\n",
        "    print(num_list[x][y])"
      ],
      "metadata": {
        "colab": {
          "base_uri": "https://localhost:8080/"
        },
        "id": "3D5a3wBUYMYR",
        "outputId": "0f81ec0f-a163-4fe8-bce9-04137a4cab77"
      },
      "execution_count": 102,
      "outputs": [
        {
          "output_type": "stream",
          "name": "stdout",
          "text": [
            "1\n",
            "2\n",
            "3\n",
            "10\n",
            "20\n",
            "30\n",
            "100\n",
            "200\n",
            "300\n"
          ]
        }
      ]
    },
    {
      "cell_type": "markdown",
      "source": [
        "#While Loops"
      ],
      "metadata": {
        "id": "TIUSorkgYe-Z"
      }
    },
    {
      "cell_type": "code",
      "source": [
        "random_num = random.randrange(0,100)\n",
        "while (random_num != 15):\n",
        "  print(random_num)\n",
        "  random_num = random.randrange(0,100)"
      ],
      "metadata": {
        "colab": {
          "base_uri": "https://localhost:8080/"
        },
        "id": "XWtYLkpaYhAY",
        "outputId": "49f6d5cd-5556-41e2-d0de-2f3c3c9d834a"
      },
      "execution_count": 106,
      "outputs": [
        {
          "output_type": "stream",
          "name": "stdout",
          "text": [
            "77\n",
            "58\n",
            "30\n",
            "12\n",
            "10\n",
            "58\n",
            "20\n",
            "69\n",
            "40\n",
            "44\n",
            "84\n",
            "43\n",
            "74\n",
            "75\n",
            "77\n",
            "7\n",
            "36\n",
            "7\n",
            "11\n",
            "61\n",
            "83\n",
            "39\n",
            "38\n",
            "24\n",
            "70\n",
            "8\n",
            "1\n",
            "12\n",
            "80\n",
            "82\n",
            "81\n"
          ]
        }
      ]
    },
    {
      "cell_type": "code",
      "source": [
        "i = 0;\n",
        "while (i <= 20):\n",
        "  if(i%2 == 0):\n",
        "    print(i)\n",
        "  elif(i == 9):\n",
        "    break\n",
        "  else:\n",
        "    i += 1\n",
        "    continue\n",
        "\n",
        "  i += 1"
      ],
      "metadata": {
        "colab": {
          "base_uri": "https://localhost:8080/"
        },
        "id": "UqMGf6UjYqfF",
        "outputId": "36805a53-9d6e-454a-f59b-561a37224451"
      },
      "execution_count": 109,
      "outputs": [
        {
          "output_type": "stream",
          "name": "stdout",
          "text": [
            "0\n",
            "2\n",
            "4\n",
            "6\n",
            "8\n"
          ]
        }
      ]
    },
    {
      "cell_type": "markdown",
      "source": [
        "#Functions"
      ],
      "metadata": {
        "id": "7A1TP3NHZMwE"
      }
    },
    {
      "cell_type": "code",
      "source": [
        "def addNumbers(fNum, lNum):\n",
        "    sumNum = fNum + lNum\n",
        "    return sumNum\n",
        "\n",
        "print(addNumbers(1, 4))"
      ],
      "metadata": {
        "colab": {
          "base_uri": "https://localhost:8080/"
        },
        "id": "quDI7htUZOum",
        "outputId": "04a4739b-29a9-4e21-da75-96bedcc32a37"
      },
      "execution_count": 112,
      "outputs": [
        {
          "output_type": "stream",
          "name": "stdout",
          "text": [
            "5\n"
          ]
        }
      ]
    },
    {
      "cell_type": "code",
      "source": [
        "newNum = 0;\n",
        "def subNumbers(fNum, lNum):\n",
        "    newNum = fNum - lNum\n",
        "    return newNum\n",
        "\n",
        "print(subNumbers(1, 4))"
      ],
      "metadata": {
        "colab": {
          "base_uri": "https://localhost:8080/"
        },
        "id": "DjzCs1oqdcij",
        "outputId": "89409994-7a50-4de5-ad1e-8a1ebcc40d61"
      },
      "execution_count": 113,
      "outputs": [
        {
          "output_type": "stream",
          "name": "stdout",
          "text": [
            "-3\n"
          ]
        }
      ]
    },
    {
      "cell_type": "markdown",
      "source": [
        "#User Input"
      ],
      "metadata": {
        "id": "q4b_-0aVdmeA"
      }
    },
    {
      "cell_type": "code",
      "source": [
        "name = input(\"Your name: \")\n",
        "print('Hello', name)"
      ],
      "metadata": {
        "colab": {
          "base_uri": "https://localhost:8080/"
        },
        "id": "M9cI03jVdot8",
        "outputId": "020d48a4-8310-44c3-924b-db280c208ef8"
      },
      "execution_count": 118,
      "outputs": [
        {
          "output_type": "stream",
          "name": "stdout",
          "text": [
            "Your name: Sriya Amperayani\n",
            "Hello Sriya Amperayani\n"
          ]
        }
      ]
    },
    {
      "cell_type": "markdown",
      "source": [
        "#Strings"
      ],
      "metadata": {
        "id": "psWe_Jted6OX"
      }
    },
    {
      "cell_type": "code",
      "source": [
        "long_string = \"this house is beautiful\""
      ],
      "metadata": {
        "id": "rlS1glpcd8qa"
      },
      "execution_count": 127,
      "outputs": []
    },
    {
      "cell_type": "code",
      "source": [
        "print(long_string[0:4])"
      ],
      "metadata": {
        "colab": {
          "base_uri": "https://localhost:8080/"
        },
        "id": "ZM7DCtPieCHb",
        "outputId": "669c3dba-4d1f-49c6-d3e3-948ff552780e"
      },
      "execution_count": 128,
      "outputs": [
        {
          "output_type": "stream",
          "name": "stdout",
          "text": [
            "this\n"
          ]
        }
      ]
    },
    {
      "cell_type": "code",
      "source": [
        "print(long_string[-5:])"
      ],
      "metadata": {
        "colab": {
          "base_uri": "https://localhost:8080/"
        },
        "id": "D8_ZAmq6eJ08",
        "outputId": "b517a19a-1330-4302-9e8d-824a97f3952f"
      },
      "execution_count": 129,
      "outputs": [
        {
          "output_type": "stream",
          "name": "stdout",
          "text": [
            "tiful\n"
          ]
        }
      ]
    },
    {
      "cell_type": "code",
      "source": [
        "print(long_string[:-5])"
      ],
      "metadata": {
        "colab": {
          "base_uri": "https://localhost:8080/"
        },
        "id": "WdKoUN5eeWQG",
        "outputId": "95be8dd5-d123-4d37-e250-053adeaa2d84"
      },
      "execution_count": 130,
      "outputs": [
        {
          "output_type": "stream",
          "name": "stdout",
          "text": [
            "this house is beau\n"
          ]
        }
      ]
    },
    {
      "cell_type": "code",
      "source": [
        "print(long_string[:4] + \" be there\")"
      ],
      "metadata": {
        "colab": {
          "base_uri": "https://localhost:8080/"
        },
        "id": "lKi_bglleZGB",
        "outputId": "6a50126b-5d9c-4c15-9bdb-ebe3dc4712ae"
      },
      "execution_count": 131,
      "outputs": [
        {
          "output_type": "stream",
          "name": "stdout",
          "text": [
            "this be there\n"
          ]
        }
      ]
    },
    {
      "cell_type": "code",
      "source": [
        "print(\"%c is my %s letter and my number %d is %.5f\" % ('X', 'favorite', 1, .14))"
      ],
      "metadata": {
        "colab": {
          "base_uri": "https://localhost:8080/"
        },
        "id": "sIOXcElyebDK",
        "outputId": "aa9d464b-0c15-45e0-80f7-1b0a7e437d44"
      },
      "execution_count": 132,
      "outputs": [
        {
          "output_type": "stream",
          "name": "stdout",
          "text": [
            "X is my favorite letter and my number 1 is 0.14000\n"
          ]
        }
      ]
    },
    {
      "cell_type": "code",
      "source": [
        "print(long_string.capitalize())"
      ],
      "metadata": {
        "colab": {
          "base_uri": "https://localhost:8080/"
        },
        "id": "UtguSDjReb0p",
        "outputId": "bd416629-f1fa-4e2c-b819-4c1f9ea1fe04"
      },
      "execution_count": 133,
      "outputs": [
        {
          "output_type": "stream",
          "name": "stdout",
          "text": [
            "This house is beautiful\n"
          ]
        }
      ]
    },
    {
      "cell_type": "code",
      "source": [
        "print(long_string.find(\"house\"))"
      ],
      "metadata": {
        "colab": {
          "base_uri": "https://localhost:8080/"
        },
        "id": "0J37oWWZeiaE",
        "outputId": "c69acb8d-ac1f-4202-b52e-3c463d8ba2f3"
      },
      "execution_count": 134,
      "outputs": [
        {
          "output_type": "stream",
          "name": "stdout",
          "text": [
            "5\n"
          ]
        }
      ]
    },
    {
      "cell_type": "code",
      "source": [
        "print(long_string.isalpha())"
      ],
      "metadata": {
        "colab": {
          "base_uri": "https://localhost:8080/"
        },
        "id": "mu6DTLrKelxR",
        "outputId": "c2aeea6b-081e-4561-efd7-96f6a76ad558"
      },
      "execution_count": 135,
      "outputs": [
        {
          "output_type": "stream",
          "name": "stdout",
          "text": [
            "False\n"
          ]
        }
      ]
    },
    {
      "cell_type": "code",
      "source": [
        "print(long_string.isalnum())"
      ],
      "metadata": {
        "colab": {
          "base_uri": "https://localhost:8080/"
        },
        "id": "YOp1cIgyemvW",
        "outputId": "dc5a6bdf-4cee-42ed-9968-4ceeb0a5d6c0"
      },
      "execution_count": 136,
      "outputs": [
        {
          "output_type": "stream",
          "name": "stdout",
          "text": [
            "False\n"
          ]
        }
      ]
    },
    {
      "cell_type": "code",
      "source": [
        "print(len(long_string))"
      ],
      "metadata": {
        "colab": {
          "base_uri": "https://localhost:8080/"
        },
        "id": "Dve_qB_AeovB",
        "outputId": "b01b9a14-8312-45c2-f1e1-526bf1101bc0"
      },
      "execution_count": 137,
      "outputs": [
        {
          "output_type": "stream",
          "name": "stdout",
          "text": [
            "23\n"
          ]
        }
      ]
    },
    {
      "cell_type": "code",
      "source": [
        "print(long_string.replace(\"house\", \"porch\"))"
      ],
      "metadata": {
        "colab": {
          "base_uri": "https://localhost:8080/"
        },
        "id": "_WAW_RwBeqyV",
        "outputId": "1bd84473-6dce-42c7-cce6-758724fb5212"
      },
      "execution_count": 138,
      "outputs": [
        {
          "output_type": "stream",
          "name": "stdout",
          "text": [
            "this porch is beautiful\n"
          ]
        }
      ]
    },
    {
      "cell_type": "code",
      "source": [
        "print(long_string.strip())"
      ],
      "metadata": {
        "colab": {
          "base_uri": "https://localhost:8080/"
        },
        "id": "y8la7v6ZetNs",
        "outputId": "e1df2e95-9bed-4477-b2d3-a77878963a70"
      },
      "execution_count": 139,
      "outputs": [
        {
          "output_type": "stream",
          "name": "stdout",
          "text": [
            "this house is beautiful\n"
          ]
        }
      ]
    },
    {
      "cell_type": "code",
      "source": [
        "quote_list = long_string.split(\" \")\n",
        "print(quote_list)"
      ],
      "metadata": {
        "colab": {
          "base_uri": "https://localhost:8080/"
        },
        "id": "JiJUl_keevT9",
        "outputId": "f5a8a575-141b-4853-b264-95dcb0db59f3"
      },
      "execution_count": 140,
      "outputs": [
        {
          "output_type": "stream",
          "name": "stdout",
          "text": [
            "['this', 'house', 'is', 'beautiful']\n"
          ]
        }
      ]
    },
    {
      "cell_type": "markdown",
      "source": [
        "#File I/O"
      ],
      "metadata": {
        "id": "qeJLQNDKe0qx"
      }
    },
    {
      "cell_type": "code",
      "source": [
        "test_file = open(\"test.txt\", \"wb\")"
      ],
      "metadata": {
        "id": "tkyG_j7re3Pe"
      },
      "execution_count": 141,
      "outputs": []
    },
    {
      "cell_type": "code",
      "source": [
        "print(test_file.mode)"
      ],
      "metadata": {
        "colab": {
          "base_uri": "https://localhost:8080/"
        },
        "id": "BhGZbehIe84a",
        "outputId": "4d62a2e2-bb15-4492-f157-bbfefc23b448"
      },
      "execution_count": 142,
      "outputs": [
        {
          "output_type": "stream",
          "name": "stdout",
          "text": [
            "wb\n"
          ]
        }
      ]
    },
    {
      "cell_type": "code",
      "source": [
        "print(test_file.name)"
      ],
      "metadata": {
        "colab": {
          "base_uri": "https://localhost:8080/"
        },
        "id": "i3StLBdOe_Xy",
        "outputId": "e82f442b-3bf3-4914-9232-6e2482cb7b1e"
      },
      "execution_count": 143,
      "outputs": [
        {
          "output_type": "stream",
          "name": "stdout",
          "text": [
            "test.txt\n"
          ]
        }
      ]
    },
    {
      "cell_type": "code",
      "source": [
        "test_file.write(bytes(\"Write me to the file\\n\", 'UTF-8'))"
      ],
      "metadata": {
        "colab": {
          "base_uri": "https://localhost:8080/"
        },
        "id": "ZT0zLCh0fC9s",
        "outputId": "ade898c5-2897-4ee9-9dae-29ee2c49f654"
      },
      "execution_count": 144,
      "outputs": [
        {
          "output_type": "execute_result",
          "data": {
            "text/plain": [
              "21"
            ]
          },
          "metadata": {},
          "execution_count": 144
        }
      ]
    },
    {
      "cell_type": "code",
      "source": [
        "test_file.close()"
      ],
      "metadata": {
        "id": "qytOTyErfGF_"
      },
      "execution_count": 145,
      "outputs": []
    },
    {
      "cell_type": "code",
      "source": [
        "test_file = open(\"test.txt\", \"r+\")"
      ],
      "metadata": {
        "id": "jG7nozgBfIq4"
      },
      "execution_count": 146,
      "outputs": []
    },
    {
      "cell_type": "code",
      "source": [
        "text_in_file = test_file.read()"
      ],
      "metadata": {
        "id": "eDv2STb1fLOn"
      },
      "execution_count": 147,
      "outputs": []
    },
    {
      "cell_type": "code",
      "source": [
        "print(text_in_file)"
      ],
      "metadata": {
        "colab": {
          "base_uri": "https://localhost:8080/"
        },
        "id": "OG6SnxCAfNqX",
        "outputId": "434e2272-1e19-4048-bff8-b3c8e02f9a18"
      },
      "execution_count": 148,
      "outputs": [
        {
          "output_type": "stream",
          "name": "stdout",
          "text": [
            "Write me to the file\n",
            "\n"
          ]
        }
      ]
    },
    {
      "cell_type": "code",
      "source": [
        "os.remove(\"test.txt\")"
      ],
      "metadata": {
        "id": "K5ExycgMfQrC"
      },
      "execution_count": 149,
      "outputs": []
    },
    {
      "cell_type": "markdown",
      "source": [
        "#Classes and Objects"
      ],
      "metadata": {
        "id": "NOtCiMpVfTsT"
      }
    },
    {
      "cell_type": "code",
      "source": [
        "class Animal:\n",
        "\n",
        "    __name = None\n",
        "    __height = 0\n",
        "    __weight = 0\n",
        "    __sound = 0\n",
        "\n",
        "    def __init__(self, name, height, weight, sound):\n",
        "        self.__name = name\n",
        "        self.__height = height\n",
        "        self.__weight = weight\n",
        "        self.__sound = sound\n",
        "\n",
        "    def set_name(self, name):\n",
        "        self.__name = name\n",
        "\n",
        "    def set_height(self, height):\n",
        "        self.__height = height\n",
        "\n",
        "    def set_weight(self, height):\n",
        "        self.__height = height\n",
        "\n",
        "    def set_sound(self, sound):\n",
        "        self.__sound = sound\n",
        "\n",
        "    def get_name(self):\n",
        "        return self.__name\n",
        "\n",
        "    def get_height(self):\n",
        "        return str(self.__height)\n",
        "\n",
        "    def get_weight(self):\n",
        "        return str(self.__weight)\n",
        "\n",
        "    def get_sound(self):\n",
        "        return self.__sound\n",
        "\n",
        "    def get_type(self):\n",
        "        print(\"Animal\")\n",
        "\n",
        "    def toString(self):\n",
        "        return \"{} is {} cm tall and {} kilograms and says {}\".format(self.__name, self.__height, self.__weight, self.__sound)\n",
        "\n",
        "cat = Animal('Whiskers', 33, 10, 'Meow')\n",
        "\n",
        "print(cat.toString())"
      ],
      "metadata": {
        "colab": {
          "base_uri": "https://localhost:8080/"
        },
        "id": "J8LTIv8zfWxc",
        "outputId": "b9a0e120-cb14-441d-ba89-16e549ec6329"
      },
      "execution_count": 152,
      "outputs": [
        {
          "output_type": "stream",
          "name": "stdout",
          "text": [
            "Whiskers is 33 cm tall and 10 kilograms and says Meow\n"
          ]
        }
      ]
    },
    {
      "cell_type": "markdown",
      "source": [
        "#Inheritance"
      ],
      "metadata": {
        "id": "f_NcsTXpf25O"
      }
    },
    {
      "cell_type": "code",
      "source": [
        "class Dog(Animal):\n",
        "    __owner = \"\"\n",
        "\n",
        "    def __init__(self, name, height, weight, sound, owner):\n",
        "        self.__owner = owner\n",
        "        super(Dog, self).__init__(name, height, weight, sound)\n",
        "\n",
        "    def set_owner(self, owner):\n",
        "        self.__owner = owner\n",
        "\n",
        "    def get_owner(self):\n",
        "        return self.__owner\n",
        "\n",
        "    def get_type(self):\n",
        "        print (\"Dog\")\n",
        "\n",
        "    def toString(self):\n",
        "        return \"{} is {} cm tall and {} kilograms and says {}. His owner is {}\".format(self.get_name(), self.get_height(), self.get_weight(), self.get_sound(), self.__owner)\n",
        "\n",
        "    def multiple_sounds(self, how_many=None):\n",
        "        if how_many is None:\n",
        "            print(self.get_sound)\n",
        "        else:\n",
        "            print(self.get_sound() * how_many)\n",
        "\n",
        "spot = Dog(\"Spot\", 53, 27, \"Ruff\", \"Sriya\")\n",
        "\n",
        "print(spot.toString())"
      ],
      "metadata": {
        "colab": {
          "base_uri": "https://localhost:8080/"
        },
        "id": "fk1Lxsvpf5hg",
        "outputId": "e31e3bd0-d7b7-4ab1-9527-146513b91330"
      },
      "execution_count": 155,
      "outputs": [
        {
          "output_type": "stream",
          "name": "stdout",
          "text": [
            "Spot is 53 cm tall and 27 kilograms and says Ruff. His owner is Sriya\n"
          ]
        }
      ]
    },
    {
      "cell_type": "markdown",
      "source": [
        "#Polymorphism"
      ],
      "metadata": {
        "id": "q5hOuriMo8m4"
      }
    },
    {
      "cell_type": "code",
      "source": [
        "class AnimalTesting:\n",
        "    def get_type(self, animal):\n",
        "        animal.get_type()\n",
        "\n",
        "test_animals = AnimalTesting()\n",
        "\n",
        "test_animals.get_type(cat)\n",
        "test_animals.get_type(spot)\n",
        "\n",
        "spot.multiple_sounds(4)"
      ],
      "metadata": {
        "colab": {
          "base_uri": "https://localhost:8080/"
        },
        "id": "FcviOQwqoXpK",
        "outputId": "72de19e6-0a37-4dd2-8122-d811ddfc75d1"
      },
      "execution_count": 156,
      "outputs": [
        {
          "output_type": "stream",
          "name": "stdout",
          "text": [
            "Animal\n",
            "Dog\n",
            "RuffRuffRuffRuff\n"
          ]
        }
      ]
    }
  ]
}